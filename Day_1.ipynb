{
  "cells": [
    {
      "cell_type": "markdown",
      "metadata": {
        "id": "view-in-github",
        "colab_type": "text"
      },
      "source": [
        "<a href=\"https://colab.research.google.com/github/Tarun-Gudapati/pythoncodes/blob/main/Day_1.ipynb\" target=\"_parent\"><img src=\"https://colab.research.google.com/assets/colab-badge.svg\" alt=\"Open In Colab\"/></a>"
      ]
    },
    {
      "cell_type": "code",
      "source": [
        "cource=\"hi is this pen your's\"\n",
        "print(cource)"
      ],
      "metadata": {
        "id": "KXb65LthqxH0",
        "outputId": "f3eaef0d-10f6-4168-e6f9-5899a38cd44e",
        "colab": {
          "base_uri": "https://localhost:8080/"
        }
      },
      "execution_count": null,
      "outputs": [
        {
          "output_type": "stream",
          "name": "stdout",
          "text": [
            "hi is this pen your's\n"
          ]
        }
      ]
    },
    {
      "cell_type": "code",
      "source": [
        "introduction='''\n",
        "name=surya\n",
        "age=19\n",
        "clg= gitam'''\n",
        "print(introduction)"
      ],
      "metadata": {
        "id": "JNM8nOixsHBy",
        "outputId": "89677812-72f8-4f48-9475-18b097e49739",
        "colab": {
          "base_uri": "https://localhost:8080/"
        }
      },
      "execution_count": null,
      "outputs": [
        {
          "output_type": "stream",
          "name": "stdout",
          "text": [
            "\n",
            "name=surya\n",
            "age=19\n",
            "clg= gitam\n"
          ]
        }
      ]
    },
    {
      "cell_type": "code",
      "source": [
        "movies=\"bimbisara\"\n",
        "print(movies[1]+movies[-1])"
      ],
      "metadata": {
        "id": "bgj4bTFTsdqq",
        "outputId": "823b2b21-c241-4ecd-8b64-b98a6a8b5974",
        "colab": {
          "base_uri": "https://localhost:8080/"
        }
      },
      "execution_count": null,
      "outputs": [
        {
          "output_type": "stream",
          "name": "stdout",
          "text": [
            "ia\n"
          ]
        }
      ]
    },
    {
      "cell_type": "code",
      "source": [
        "uni=\"gitam\"\n",
        "all=uni[:2]\n",
        "all=uni[2:]\n",
        "print(all)"
      ],
      "metadata": {
        "id": "Vmx2cmR1tuuh",
        "outputId": "f872f941-40ee-44ec-b974-0930fd092552",
        "colab": {
          "base_uri": "https://localhost:8080/"
        }
      },
      "execution_count": null,
      "outputs": [
        {
          "output_type": "stream",
          "name": "stdout",
          "text": [
            "tam\n"
          ]
        }
      ]
    },
    {
      "cell_type": "code",
      "source": [
        "sports=\"cricket\"\n",
        "print(sports[3:])"
      ],
      "metadata": {
        "id": "3li7bfjquOyJ",
        "outputId": "89da8136-e104-4485-95f6-73bdae4f7647",
        "colab": {
          "base_uri": "https://localhost:8080/"
        }
      },
      "execution_count": null,
      "outputs": [
        {
          "output_type": "stream",
          "name": "stdout",
          "text": [
            "cket\n"
          ]
        }
      ]
    },
    {
      "cell_type": "code",
      "source": [
        "sports=\"cricket\"\n",
        "print(sports[:3])"
      ],
      "metadata": {
        "id": "Zit6FFK2u5tB",
        "outputId": "c6118e67-0613-403e-fbc2-d80d5919160e",
        "colab": {
          "base_uri": "https://localhost:8080/"
        }
      },
      "execution_count": null,
      "outputs": [
        {
          "output_type": "stream",
          "name": "stdout",
          "text": [
            "cri\n"
          ]
        }
      ]
    },
    {
      "cell_type": "code",
      "source": [
        "#formated f\n",
        "firstname=\"surya\"\n",
        "lastname=\"setty\"\n",
        "name=(firstname+\"'s (last name is) \"+lastname)\n",
        "formated=f'{firstname} thotam {lastname} is awesome'\n",
        "print(name)\n",
        "print(formated)\n"
      ],
      "metadata": {
        "id": "UlkTu7f4wLCQ",
        "outputId": "25d2280d-3e10-4620-c33e-cc3e8eb716e7",
        "colab": {
          "base_uri": "https://localhost:8080/"
        }
      },
      "execution_count": null,
      "outputs": [
        {
          "output_type": "stream",
          "name": "stdout",
          "text": [
            "surya's (last name is) setty\n",
            "surya thotam setty is awesome\n"
          ]
        }
      ]
    },
    {
      "cell_type": "code",
      "source": [
        "a=int(input())\n",
        "b=input()\n",
        "c=print(len((b)))\n"
      ],
      "metadata": {
        "id": "qcaZDBg_xmCW",
        "outputId": "11ae049d-01ac-4233-b5f7-d4df6c6a9fc8",
        "colab": {
          "base_uri": "https://localhost:8080/"
        }
      },
      "execution_count": null,
      "outputs": [
        {
          "output_type": "stream",
          "name": "stdout",
          "text": [
            "200200\n",
            "svvssvvs\n",
            "8\n"
          ]
        }
      ]
    },
    {
      "cell_type": "code",
      "source": [
        "#a=int(input())\n",
        "b=(\"TARUN \")\n",
        "c=(\"has a big asshole\")\n",
        "d=print(len((b)))\n",
        "print(b.lower())\n",
        "print(c.upper())\n",
        "e=print(b+c)\n",
        "\n"
      ],
      "metadata": {
        "id": "DH56_Jd0wMlT",
        "outputId": "df926e2a-739a-42cb-bd1a-1d56a7062253",
        "colab": {
          "base_uri": "https://localhost:8080/"
        }
      },
      "execution_count": null,
      "outputs": [
        {
          "output_type": "stream",
          "name": "stdout",
          "text": [
            "6\n",
            "tarun \n",
            "HAS A BIG ASSHOLE\n",
            "TARUN has a big asshole\n"
          ]
        }
      ]
    },
    {
      "cell_type": "code",
      "source": [
        "a=input('enter your name')\n",
        "b=int(input(\" what is your aass size \"))\n",
        "x= f'{a} has a {b} sized ass'\n",
        "print(x5)"
      ],
      "metadata": {
        "colab": {
          "base_uri": "https://localhost:8080/"
        },
        "id": "RhRy53frXR8O",
        "outputId": "f3dd8c85-7ff5-40d0-e92c-05eeeb101a41"
      },
      "execution_count": 3,
      "outputs": [
        {
          "output_type": "stream",
          "name": "stdout",
          "text": [
            "enter your namesurya\n",
            " what is your aass size 32356\n",
            "surya has a 32356 sized ass\n"
          ]
        }
      ]
    },
    {
      "cell_type": "code",
      "source": [
        "#upper case \n",
        "#finding the index  \n",
        "name=input(\"please say your name\")\n",
        "clas = input(\"what is your class\")\n",
        "age=int(input('what is your age'))\n",
        "x=clas.upper()\n",
        "y=name.upper()\n",
        "z= f'{y} studies in {x} class and his age is {age} '\n",
        "print(z.upper())\n",
        "print(z.find('u'))"
      ],
      "metadata": {
        "colab": {
          "base_uri": "https://localhost:8080/"
        },
        "id": "HJavZWGCYW5I",
        "outputId": "2c093ac1-e5fe-4d8b-e9da-a5091c6b91e5"
      },
      "execution_count": 9,
      "outputs": [
        {
          "output_type": "stream",
          "name": "stdout",
          "text": [
            "please say your nameiahdiwfhowhof\n",
            "what is your classhkahdwhdjkahkjsfu\n",
            "what is your age55\n",
            "IAHDIWFHOWHOF STUDIES IN HKAHDWHDJKAHKJSFU CLASS AND HIS AGE IS 55 \n",
            "16\n"
          ]
        }
      ]
    },
    {
      "cell_type": "code",
      "source": [
        "'''using title which changes the character in first letter of \n",
        "every word in a sentence to capital'''\n",
        "x='tarun is ass'\n",
        "print(x.title())"
      ],
      "metadata": {
        "colab": {
          "base_uri": "https://localhost:8080/"
        },
        "id": "eNCfp3MibE70",
        "outputId": "f6c00600-00c1-41e2-9e4c-678c8f07eee2"
      },
      "execution_count": 11,
      "outputs": [
        {
          "output_type": "stream",
          "name": "stdout",
          "text": [
            "Tarun Is Ass\n"
          ]
        }
      ]
    },
    {
      "cell_type": "code",
      "source": [
        "#using find , present(it uses boolen we use in over here ) , replace \n",
        "x='satwik and surya landad on each other'\n",
        "print('an' in x)\n",
        "print(x.find ('an'))\n",
        "x.replace('other' , 'in')"
      ],
      "metadata": {
        "colab": {
          "base_uri": "https://localhost:8080/",
          "height": 70
        },
        "id": "fpdrBTxTccYg",
        "outputId": "a4143d25-582b-4f5e-c2ce-0e4a473f8188"
      },
      "execution_count": 17,
      "outputs": [
        {
          "output_type": "stream",
          "name": "stdout",
          "text": [
            "True\n",
            "7\n"
          ]
        },
        {
          "output_type": "execute_result",
          "data": {
            "text/plain": [
              "'satwik and surya landad on each in'"
            ],
            "application/vnd.google.colaboratory.intrinsic+json": {
              "type": "string"
            }
          },
          "metadata": {},
          "execution_count": 17
        }
      ]
    },
    {
      "cell_type": "code",
      "source": [
        "#ceil.round,floor,\n",
        "import math\n",
        "x=4.7\n",
        "print(abs(-2.5))\n",
        "print(round(x))\n",
        "print(math.floor(x))\n",
        "print(math.ceil(x))"
      ],
      "metadata": {
        "colab": {
          "base_uri": "https://localhost:8080/"
        },
        "id": "1jIHh_XSdQ-a",
        "outputId": "b6069d24-fb4e-4e93-debc-0c6ea488df22"
      },
      "execution_count": 23,
      "outputs": [
        {
          "output_type": "stream",
          "name": "stdout",
          "text": [
            "2.5\n"
          ]
        }
      ]
    },
    {
      "cell_type": "code",
      "source": [
        "a = int(input(\"please enter your height \"))\n",
        "b = int(input(\"please entwer your height\"))\n",
        "\n",
        "if a>b:\n",
        "  print(\"a is taller\")\n",
        "elif b<a:\n",
        "  print(\"b is taller\")\n",
        "else :\n",
        "  print(\" they are off same height\")\n"
      ],
      "metadata": {
        "colab": {
          "base_uri": "https://localhost:8080/"
        },
        "id": "2ThzCp0qvgYe",
        "outputId": "28029b41-f395-4576-c44e-d5c30b01127c"
      },
      "execution_count": 24,
      "outputs": [
        {
          "output_type": "stream",
          "name": "stdout",
          "text": [
            "please enter your height 55\n",
            "please entwer your height45\n",
            "a is taller\n"
          ]
        }
      ]
    }
  ],
  "metadata": {
    "colab": {
      "collapsed_sections": [],
      "name": "Day 1",
      "provenance": [],
      "include_colab_link": true
    },
    "kernelspec": {
      "display_name": "Python 3",
      "name": "python3"
    }
  },
  "nbformat": 4,
  "nbformat_minor": 0
}